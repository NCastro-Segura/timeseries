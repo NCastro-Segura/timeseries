{
 "cells": [
  {
   "cell_type": "markdown",
   "metadata": {},
   "source": [
    "# RV study V341 Ara WiFeS data set.\n",
    "We are going to create mock observations in order to simulate the results we would spect from an observing campaing.\n",
    "\n",
    "First we import the modules we need. "
   ]
  },
  {
   "cell_type": "code",
   "execution_count": 3,
   "metadata": {},
   "outputs": [],
   "source": [
    "import numpy as np\n",
    "from matplotlib import pyplot as plt\n",
    "from astroML.time_series import  lomb_scargle, lomb_scargle_BIC\n",
    "from random import SystemRandom\n",
    "\n",
    "from astroML.plotting import setup_text_plots\n",
    "setup_text_plots(fontsize=8, usetex=False)\n",
    "\n",
    "#import my own library \n",
    "import sys\n",
    "sys.path.append('/Users/noelin/Documents/python_library/')\n",
    "from time_series_tools import LS_bootstrap_err_est, LS_window_white_noise, LS_null_hypotesis, LS_bootstrap_sig, LS__semi_param_bootstrap_err_est, LS_chi2"
   ]
  },
  {
   "cell_type": "markdown",
   "metadata": {},
   "source": [
    "The time_series_tools is a personal library I created in order to have all the statistical test functions in the same file. I will coment them below.\n",
    "\n",
    "Now we define the parameters of the sinusoid we want to model. For this we use the values from the measuremens of the 2017 SpuPNiC campaing:"
   ]
  },
  {
   "cell_type": "code",
   "execution_count": 48,
   "metadata": {},
   "outputs": [
    {
     "name": "stdout",
     "output_type": "stream",
     "text": [
      "(array([0.        , 0.01392437, 0.02044035, 0.02466511, 0.02887831,\n",
      "       0.0330915 , 0.03732784, 0.04152945, 0.05030366, 0.05452784,\n",
      "       0.05874104, 0.06296522, 0.06717899, 0.07139276, 0.07807021,\n",
      "       0.08228455, 0.08652032, 0.09073293, 0.10779461, 0.1120078 ,\n",
      "       0.11622099, 0.12044576, 0.12465895, 0.12888371, 0.13742584,\n",
      "       0.14165002, 0.14587595, 0.15010013, 0.15431332, 0.15853809,\n",
      "       0.16506679, 0.16928056, 0.17351574, 0.17771793, 0.18195369,\n",
      "       0.18616688, 0.10096554, 0.22608858, 0.23030177]), array([-45.97356399, -12.0324602 ,   9.18030475,  18.66483816,\n",
      "        20.12876248,  18.97202493,  36.96543815,  30.13413972,\n",
      "        27.93684571,  33.93023205,  27.62764314,  18.71192513,\n",
      "        11.34309376,   9.82288846,  -0.32871593,  -2.86275605,\n",
      "       -16.50560122,  -6.51455547, -52.10091041, -61.91993928,\n",
      "       -63.17137557, -58.32693983, -68.7918333 , -55.85522522,\n",
      "       -39.37705964, -35.63041477, -39.68334425, -17.86806785,\n",
      "       -14.87109407, -21.25727933,  14.41175087,   6.73841736,\n",
      "        26.98352125,  31.28683724,  31.65543742,  21.10346241,\n",
      "       -41.98225133,  -2.92377205,  -3.22583184]), array([1.55082608, 0.2880538 , 1.25162079, 0.62349525, 3.46973166,\n",
      "       1.03789929, 4.44319044, 2.00059493, 2.09778522, 2.78300314,\n",
      "       2.85635307, 1.99897087, 2.18739245, 0.521764  , 0.02696539,\n",
      "       0.29190676, 1.30627545, 0.19405122, 5.23326804, 3.25348109,\n",
      "       3.63550022, 3.08103785, 6.65953707, 4.16108902, 2.34918522,\n",
      "       2.36419688, 2.95143917, 1.33624   , 1.19431218, 1.6200971 ,\n",
      "       2.89794091, 0.91911895, 1.52896621, 3.11375191, 0.96869921,\n",
      "       0.87713484, 2.21389556, 0.24017014, 0.1973527 ]))\n"
     ]
    }
   ],
   "source": [
    "#el directorio en el que están los datos\n",
    "pwd='/Documents/PhD/Observation/V341_ara/WiFeS/blue_red/V341_Ara/'\n",
    "#directorio donde están las librerias que queremos cargar astro_lib.py en este caso\n",
    "libdir='/Documents/python_library/'\n",
    "\n",
    "from os.path import expanduser\n",
    "from sys import path\n",
    "from os import chdir\n",
    "home = expanduser(\"~\")\n",
    "path.append(home+libdir)\n",
    "chdir(home+pwd)\n",
    "from astro_lib import *\n",
    "\n",
    "archivos=explorar(search='.npy')\n",
    "dic = np.load(archivos[1][6])\n",
    "data = dic.item()\n",
    "\n",
    "y_obs1 = []\n",
    "dy1 = []\n",
    "t_obs = []\n",
    "for infile in archivos[1][:]:\n",
    "    if infile[-11:] != 'meas_Hb.npy':\n",
    "        continue\n",
    "    dic = np.load(infile)\n",
    "    data = dic.item()\n",
    "\n",
    "\n",
    "    #y_obs1.append(data['likely']['abs_center'])\n",
    "    y_obs1.append(data['median']['abs_center'])\n",
    "    dy1.append(data['median']['err']['1sig_err_abs_center']*10) \n",
    "    t_obs.append(data['data']['t_obs'])\n",
    "    \n",
    "t_obs = np.array(t_obs)\n",
    "y_obs1 = np.array(y_obs1)\n",
    "dy1 = np.array(dy1)\n",
    "min_t_obs = np.min(t_obs)\n",
    "t_obs=t_obs-np.min(t_obs)#+1\n",
    "\n",
    "print(t_obs,y_obs1,dy1)"
   ]
  },
  {
   "cell_type": "code",
   "execution_count": 49,
   "metadata": {},
   "outputs": [],
   "source": [
    "# =============================================================================\n",
    "# # setting up parameters\n",
    "# =============================================================================\n",
    "np.random.seed()\n",
    "\n",
    "#Nbins=200 set equal to nfrec downthere\n",
    "N_bootstraps=int(1e4) #1e4\n",
    "\n",
    "\n",
    "Nobs=len(t_obs)\n",
    "n_obs=Nobs"
   ]
  },
  {
   "cell_type": "markdown",
   "metadata": {},
   "source": [
    "where we are asuming a gaussian distribution of heteroscedastic erros\n",
    "\n",
    "$\\mathrm{frec = P_{orb}^{-1}\\ [d^{-1}]}$,\n",
    "\n",
    "$\\mathrm{mu\\_dy} = <\\vec{\\sigma}\\ >$,\n",
    "\n",
    "$\\mathrm{sig\\_dy = std(\\vec{\\sigma}\\ \\ )}$,\n",
    "\n",
    "Now are ready to generate the data.\n",
    "\n",
    "## Loading the data\n",
    "\n",
    "\\### Time vector\n",
    "We can generate random observation during for 20 days as follows"
   ]
  },
  {
   "cell_type": "code",
   "execution_count": 50,
   "metadata": {},
   "outputs": [],
   "source": [
    "# =============================================================================\n",
    "# # Generate the time vector \n",
    "# =============================================================================\n",
    "\n",
    "seed=SystemRandom()\n",
    "np.random.seed(seed.randint(0,2**32 - 1)) #activate this for non reproductivity \n"
   ]
  },
  {
   "cell_type": "markdown",
   "metadata": {},
   "source": [
    "The observing sample from 2017 campaing is the following:"
   ]
  },
  {
   "cell_type": "code",
   "execution_count": null,
   "metadata": {},
   "outputs": [],
   "source": []
  },
  {
   "cell_type": "markdown",
   "metadata": {},
   "source": [
    "In order to generate more realistic campaign data we can perform several observation per night:"
   ]
  },
  {
   "cell_type": "code",
   "execution_count": null,
   "metadata": {},
   "outputs": [],
   "source": []
  },
  {
   "cell_type": "markdown",
   "metadata": {},
   "source": [
    "Again we used heteroscedastic erros in the time measurement, they were measured from the las campaign. They correspond to fluctuations in the readout time for consecutive exposures wen we run a MACRO. \n",
    "\n",
    "### The data draws\n",
    "We take the pick the data from the sample (need to introduce some phase shift)"
   ]
  },
  {
   "cell_type": "code",
   "execution_count": 51,
   "metadata": {},
   "outputs": [],
   "source": [
    "# =============================================================================\n",
    "# # Generate the data\n",
    "# =============================================================================\n",
    "\n",
    "y_window = np.ones_like(y_obs1)\n",
    "\n",
    "t = np.linspace(0, np.max(t_obs), int(np.max(t_obs)*10000))\n"
   ]
  },
  {
   "cell_type": "markdown",
   "metadata": {},
   "source": [
    "## Periodogram\n",
    "We compute the periodogram of the actual data and the sampling window for comparation.\n",
    " \n",
    "By default we use the generalized Lomb-Scargle: a modification of the periodogram has variously been called the Date-\n",
    "compensated Discrete Fourier Transform (Ferraz-Mello 1981), the floating-mean periodogram (Cumming et al. 1999; VanderPlas & Ivezic 2015), or the generalized Lomb-Scargle Method (Zechmeister & Kürster 2009), and involves adding an offset term to the sinusoidal model at each frequency:\n",
    "\n",
    "$y_{model}(t;f)=y_0(f) + A_f sin(2\\pi ft + \\phi_f)$      \n",
    "\n",
    "For the window function we just use the standard Lomb-Scargle"
   ]
  },
  {
   "cell_type": "code",
   "execution_count": 86,
   "metadata": {},
   "outputs": [
    {
     "name": "stdout",
     "output_type": "stream",
     "text": [
      "estimated frequency\n",
      "6.801727550000001\n",
      "estimated period\n",
      "3h 31m42.655s\n"
     ]
    }
   ],
   "source": [
    "# =============================================================================\n",
    "# # Compute the periodogram\n",
    "# =============================================================================\n",
    "nu = np.linspace(0.5, 15, 1000001)[1:]\n",
    "omega=nu*(2*np.pi)\n",
    "\n",
    "P_obs1 = lomb_scargle(t_obs, y_obs1, dy1, omega)\n",
    "#P_obs2 = lomb_scargle(t_obs, y_obs2, dy2, omega)\n",
    "P_window = lomb_scargle(t_obs, y_window, 1, omega,\n",
    "                        generalized=False, subtract_mean=False)\n",
    "\n",
    "frec_guess=nu[np.argmax(P_obs1)]\n",
    "frec=frec_guess\n",
    "P_max=np.max(P_obs1)\n",
    "P_true=P_max\n",
    "print('estimated frequency')\n",
    "print(frec)\n",
    "print('estimated period')\n",
    "print(str(int(24/frec))+'h '+str(int(((24/frec)%1)*60))+ 'm'+str(round((((24/frec*60)%1)*60),3))+ 's')"
   ]
  },
  {
   "cell_type": "code",
   "execution_count": 89,
   "metadata": {},
   "outputs": [
    {
     "data": {
      "text/plain": [
       "Text(0,0.5,'$P_{\\\\rm LS}(f)$')"
      ]
     },
     "execution_count": 89,
     "metadata": {},
     "output_type": "execute_result"
    },
    {
     "data": {
      "image/png": "[encoded data removed]",
      "text/plain": [
       "<Figure size 1152x288 with 2 Axes>"
      ]
     },
     "metadata": {},
     "output_type": "display_data"
    },
    {
     "data": {
      "image/png": "[encoded data removed]",
      "text/plain": [
       "<Figure size 1152x288 with 2 Axes>"
      ]
     },
     "metadata": {},
     "output_type": "display_data"
    },
    {
     "data": {
      "image/png": "[encoded data removed]",
      "text/plain": [
       "<Figure size 1152x288 with 1 Axes>"
      ]
     },
     "metadata": {},
     "output_type": "display_data"
    }
   ],
   "source": [
    "fig = plt.figure(figsize=(16, 4))\n",
    "ax3 = fig.add_subplot(111)\n",
    "#ax3.fill(omega, P_true, fc='gray', ec='gray')\n",
    "ax3.plot(nu, P_obs1, '-', c='black')\n",
    "#ax3.plot(omega, P_window, '-', c='r',alpha=0.7)\n",
    "ax3.text(0.96, 0.92, \"Data PSD\", ha='right', va='top', transform=ax3.transAxes)\n",
    "ax3.set_ylim(-0.01, P_max*1.09)\n",
    "ax3.set_xlim(min(nu), max(nu))\n",
    "ax3.set_xlabel('$f$')\n",
    "ax3.set_ylabel(r'$P_{\\rm LS}(f)$')\n",
    "ax3.annotate(str(round(frec_guess,3))+\"\", (frec_guess, np.max(P_obs1)*1.02), (frec_guess, np.max(P_obs1)*1.1), ha='right',\n",
    "             arrowprops=dict(arrowstyle='->'))\n",
    "\n",
    "ax32 = ax3.twinx()\n",
    "ax32.set_ylim(tuple(lomb_scargle_BIC(ax3.get_ylim(), y_obs1, dy1)))\n",
    "ax32.set_ylabel(r'$\\Delta BIC$')\n",
    "\n",
    "fig = plt.figure(figsize=(16, 4))\n",
    "ax3 = fig.add_subplot(111)\n",
    "#ax3.fill(omega, P_true, fc='gray', ec='gray')\n",
    "ax3.plot(nu, P_obs1, '-', c='black')\n",
    "#ax3.plot(omega, P_window, '-', c='r',alpha=0.7)\n",
    "ax3.text(0.96, 0.92, \"Data PSD\", ha='right', va='top', transform=ax3.transAxes)\n",
    "ax3.set_ylim(-0.01, P_max*1.09)\n",
    "ax3.set_xlim(frec_guess*0.99, frec_guess*1.01)\n",
    "ax3.set_xlabel('$f$')\n",
    "ax3.set_ylabel(r'$P_{\\rm LS}(f)$')\n",
    "ax3.annotate(str(round(frec_guess,3))+\"\", (frec_guess, np.max(P_obs1)*1.02), (frec_guess, np.max(P_obs1)*1.1), ha='right',\n",
    "             arrowprops=dict(arrowstyle='->'))\n",
    "\n",
    "ax32 = ax3.twinx()\n",
    "ax32.set_ylim(tuple(lomb_scargle_BIC(ax3.get_ylim(), y_obs1, dy1)))\n",
    "ax32.set_ylabel(r'$\\Delta BIC$')\n",
    "\n",
    "fig = plt.figure(figsize=(16, 4))\n",
    "ax2 = fig.add_subplot(111)\n",
    "ax2.plot(nu, P_window, '-', c='black')\n",
    "ax2.text(0.96, 0.92, \"Window PSD\", ha='right', va='top', transform=ax2.transAxes)\n",
    "ax2.set_ylim(-0.1, 1.01)\n",
    "ax2.set_xlabel('$f$')\n",
    "ax2.set_ylabel(r'$P_{\\rm LS}(f)$')"
   ]
  },
  {
   "cell_type": "markdown",
   "metadata": {},
   "source": [
    "We can rearange the function above by using the trigonometric identities in order to do a linear regresion to estimate $A_f$ and $\\phi_f$\n",
    "\n",
    "$y_{model}(t;f)=y_0(f) + A_f sin(2\\pi ft + \\phi_f) = y_0(f)+ a_f sin(\\omega t) + b_f cos(\\omega t) \\ \\ \\ \\ \\ \\ \\ \\ \\ \\ \\ \\ \\ \\ \\ \\ \\ \\ \\ \\ \\ \\ \\ \\ $     (1)\n",
    "\n",
    "Where $A_f=\\sqrt{a_f^2+b_f^2}$ and $\\phi_f=arctan(\\frac{b_f}{a_f})$"
   ]
  },
  {
   "cell_type": "code",
   "execution_count": 61,
   "metadata": {},
   "outputs": [
    {
     "name": "stdout",
     "output_type": "stream",
     "text": [
      "estimated amplitude\n",
      "46.71404488324315\n",
      "center of mass\n",
      "-12.06625648595318\n",
      "estimated phase\n",
      "-0.4595210533420661\n"
     ]
    },
    {
     "data": {
      "image/png": "[encoded data removed]",
      "text/plain": [
       "<Figure size 1152x288 with 1 Axes>"
      ]
     },
     "metadata": {},
     "output_type": "display_data"
    }
   ],
   "source": [
    "# =============================================================================\n",
    "# #Fitting the Phase and Amplitude \n",
    "# =============================================================================\n",
    "def bst_sin(frec,a,b,B,t): #we define the best sinusoidal model \n",
    "    w=2.*np.pi*frec\n",
    "    best_sin=a*np.sin(w*t)+b*np.cos(w*t)+B\n",
    "    return(best_sin)\n",
    "    \n",
    "from lmfit import Parameters, minimize\n",
    "p=Parameters()\n",
    "#p.add('phase',0., max=np.pi,min=-np.pi) \n",
    "p.add('a',0.)   \n",
    "p.add('b',0.)\n",
    "p.add('B',0.)   \n",
    "\n",
    "def residual(p):\n",
    "    pd=p.valuesdict()\n",
    "    return bst_sin(frec_guess,pd['a'],pd['b'],pd['B'],np.array(t_obs))-y_obs1\n",
    "\n",
    "ph_shift = minimize(residual,p,method='Nelder')\n",
    "A=np.sqrt(ph_shift.params['a']**2+ph_shift.params['b']**2) \n",
    "phase=np.arctan2(ph_shift.params['b'],ph_shift.params['a'])\n",
    "B=ph_shift.params['B'].value\n",
    "\n",
    "f=plt.figure(figsize=(16, 4))\n",
    "ax1=f.add_subplot(111)\n",
    "ax1.errorbar(t_obs, y_obs1, dy1, fmt='.k', capsize=1, ecolor='#444444')\n",
    "ax1.plot(t,A*np.sin((2.*np.pi*frec_guess* t) + phase)+B)\n",
    "#ax1.plot(t,bst_sin(frec_guess,ph_shift.params['a'],ph_shift.params['b'],ph_shift.params['B'],t))\n",
    "\n",
    "print('estimated amplitude')\n",
    "print(A)\n",
    "print('center of mass')\n",
    "print(B)\n",
    "print('estimated phase')\n",
    "print(phase)\n",
    "#print(t)"
   ]
  },
  {
   "cell_type": "markdown",
   "metadata": {},
   "source": [
    "## Statistical tests\n",
    "\n",
    "We separate the statistical test in two clases, significance and uncertainty.\n",
    "\n",
    "With the exception of the $\\chi^2$ test, in all the methods we repeat the experiment $10^{x}$ with $x\\sim 3-5$ in order to have significant amount of measurements to apply statistics on it. "
   ]
  },
  {
   "cell_type": "markdown",
   "metadata": {},
   "source": [
    "### 1. Signal significance\n",
    "#### 1.1 Bootstrap significance \n",
    "This try to disentangle if the estimated period of the signal is due to the sampling function (the window function) rather than the data itself. \n",
    "\n",
    "For that reason the method construct the mock sample conserve the original time vector $\\vec{t}_{obs}$, the $\\vec y\\ $ vector is constructed by randomly drawn $y_i$ with repitition. Then compute the periodogram for each mock sample and save the highest peak.\n",
    "\n",
    "We can compute the significance of the highest peak from the original data by comparing it with the 99% threshold heigh given by the mock sample.\n",
    "\n",
    "Therefore the idea of this method is to estimate the probability of the best frecuency being a consecuence of the data sampling. "
   ]
  },
  {
   "cell_type": "code",
   "execution_count": 62,
   "metadata": {},
   "outputs": [
    {
     "ename": "KeyboardInterrupt",
     "evalue": "",
     "output_type": "error",
     "traceback": [
      "\u001b[0;31m---------------------------------------------------------------------------\u001b[0m",
      "\u001b[0;31mKeyboardInterrupt\u001b[0m                         Traceback (most recent call last)",
      "\u001b[0;32m<ipython-input-62-acc011b350bd>\u001b[0m in \u001b[0;36m<module>\u001b[0;34m()\u001b[0m\n\u001b[1;32m      2\u001b[0m D, omegaD = LS_bootstrap_sig(t_obs, y_obs1, dy1, omega, generalized=True,\n\u001b[1;32m      3\u001b[0m                            \u001b[0mN_bootstraps\u001b[0m\u001b[0;34m=\u001b[0m\u001b[0mN_bootstraps\u001b[0m\u001b[0;34m,\u001b[0m \u001b[0mrandom_state\u001b[0m\u001b[0;34m=\u001b[0m\u001b[0mNone\u001b[0m\u001b[0;34m,\u001b[0m\u001b[0;34m\u001b[0m\u001b[0m\n\u001b[0;32m----> 4\u001b[0;31m                            hist=True,plot_hist=False,Nbins=len(omega))\n\u001b[0m\u001b[1;32m      5\u001b[0m \u001b[0msig1\u001b[0m\u001b[0;34m,\u001b[0m \u001b[0msig5\u001b[0m \u001b[0;34m=\u001b[0m \u001b[0mnp\u001b[0m\u001b[0;34m.\u001b[0m\u001b[0mpercentile\u001b[0m\u001b[0;34m(\u001b[0m\u001b[0mD\u001b[0m\u001b[0;34m,\u001b[0m \u001b[0;34m[\u001b[0m\u001b[0;36m99\u001b[0m\u001b[0;34m,\u001b[0m \u001b[0;36m95\u001b[0m\u001b[0;34m]\u001b[0m\u001b[0;34m)\u001b[0m\u001b[0;34m\u001b[0m\u001b[0m\n\u001b[1;32m      6\u001b[0m \u001b[0mfrecD_BSS\u001b[0m\u001b[0;34m=\u001b[0m\u001b[0momegaD\u001b[0m\u001b[0;34m/\u001b[0m\u001b[0;34m(\u001b[0m\u001b[0;36m2.0\u001b[0m\u001b[0;34m*\u001b[0m\u001b[0mnp\u001b[0m\u001b[0;34m.\u001b[0m\u001b[0mpi\u001b[0m\u001b[0;34m)\u001b[0m\u001b[0;34m\u001b[0m\u001b[0m\n",
      "\u001b[0;32m/Users/noelin/Documents/python_library/time_series_tools.pyc\u001b[0m in \u001b[0;36mLS_bootstrap_sig\u001b[0;34m(t, y, dy, omega, generalized, subtract_mean, N_bootstraps, random_state, hist, plot_hist, Nbins)\u001b[0m\n\u001b[1;32m    378\u001b[0m         \u001b[0;31m#print[ind]\u001b[0m\u001b[0;34m\u001b[0m\u001b[0;34m\u001b[0m\u001b[0m\n\u001b[1;32m    379\u001b[0m         p = lomb_scargle(t, y[ind], dy[ind], omega,\n\u001b[0;32m--> 380\u001b[0;31m                          generalized=generalized, subtract_mean=subtract_mean)\n\u001b[0m\u001b[1;32m    381\u001b[0m         \u001b[0mD\u001b[0m\u001b[0;34m[\u001b[0m\u001b[0mi\u001b[0m\u001b[0;34m]\u001b[0m \u001b[0;34m=\u001b[0m \u001b[0mp\u001b[0m\u001b[0;34m.\u001b[0m\u001b[0mmax\u001b[0m\u001b[0;34m(\u001b[0m\u001b[0;34m)\u001b[0m\u001b[0;34m\u001b[0m\u001b[0m\n\u001b[1;32m    382\u001b[0m         \u001b[0momegaD\u001b[0m\u001b[0;34m[\u001b[0m\u001b[0mi\u001b[0m\u001b[0;34m]\u001b[0m\u001b[0;34m=\u001b[0m\u001b[0momega\u001b[0m\u001b[0;34m[\u001b[0m\u001b[0mp\u001b[0m\u001b[0;34m.\u001b[0m\u001b[0margmax\u001b[0m\u001b[0;34m(\u001b[0m\u001b[0;34m)\u001b[0m\u001b[0;34m]\u001b[0m\u001b[0;34m\u001b[0m\u001b[0m\n",
      "\u001b[0;32m/Users/noelin/anaconda/envs/astroconda/lib/python2.7/site-packages/astroML/time_series/periodogram.pyc\u001b[0m in \u001b[0;36mlomb_scargle\u001b[0;34m(t, y, dy, omega, generalized, subtract_mean, significance)\u001b[0m\n\u001b[1;32m     60\u001b[0m     \u001b[0mls\u001b[0m \u001b[0;34m=\u001b[0m \u001b[0mLombScargle\u001b[0m\u001b[0;34m(\u001b[0m\u001b[0mt\u001b[0m\u001b[0;34m,\u001b[0m \u001b[0my\u001b[0m\u001b[0;34m,\u001b[0m \u001b[0mdy\u001b[0m\u001b[0;34m,\u001b[0m \u001b[0mfit_mean\u001b[0m\u001b[0;34m=\u001b[0m\u001b[0mgeneralized\u001b[0m\u001b[0;34m,\u001b[0m \u001b[0mcenter_data\u001b[0m\u001b[0;34m=\u001b[0m\u001b[0msubtract_mean\u001b[0m\u001b[0;34m)\u001b[0m\u001b[0;34m\u001b[0m\u001b[0m\n\u001b[1;32m     61\u001b[0m     \u001b[0mfrequency\u001b[0m \u001b[0;34m=\u001b[0m \u001b[0mnp\u001b[0m\u001b[0;34m.\u001b[0m\u001b[0masarray\u001b[0m\u001b[0;34m(\u001b[0m\u001b[0momega\u001b[0m\u001b[0;34m)\u001b[0m \u001b[0;34m/\u001b[0m \u001b[0;34m(\u001b[0m\u001b[0;36m2\u001b[0m \u001b[0;34m*\u001b[0m \u001b[0mnp\u001b[0m\u001b[0;34m.\u001b[0m\u001b[0mpi\u001b[0m\u001b[0;34m)\u001b[0m\u001b[0;34m\u001b[0m\u001b[0m\n\u001b[0;32m---> 62\u001b[0;31m     \u001b[0mp_omega\u001b[0m \u001b[0;34m=\u001b[0m \u001b[0mls\u001b[0m\u001b[0;34m.\u001b[0m\u001b[0mpower\u001b[0m\u001b[0;34m(\u001b[0m\u001b[0mfrequency\u001b[0m\u001b[0;34m,\u001b[0m \u001b[0mmethod\u001b[0m\u001b[0;34m=\u001b[0m\u001b[0;34m'cython'\u001b[0m\u001b[0;34m)\u001b[0m\u001b[0;34m\u001b[0m\u001b[0m\n\u001b[0m\u001b[1;32m     63\u001b[0m \u001b[0;34m\u001b[0m\u001b[0m\n\u001b[1;32m     64\u001b[0m     \u001b[0;32mif\u001b[0m \u001b[0msignificance\u001b[0m \u001b[0;32mis\u001b[0m \u001b[0;32mnot\u001b[0m \u001b[0mNone\u001b[0m\u001b[0;34m:\u001b[0m\u001b[0;34m\u001b[0m\u001b[0m\n",
      "\u001b[0;32m/Users/noelin/anaconda/envs/astroconda/lib/python2.7/site-packages/astropy/stats/lombscargle/core.pyc\u001b[0m in \u001b[0;36mpower\u001b[0;34m(self, frequency, normalization, method, assume_regular_frequency, method_kwds)\u001b[0m\n\u001b[1;32m    330\u001b[0m                             \u001b[0mnormalization\u001b[0m\u001b[0;34m=\u001b[0m\u001b[0mnormalization\u001b[0m\u001b[0;34m,\u001b[0m\u001b[0;34m\u001b[0m\u001b[0m\n\u001b[1;32m    331\u001b[0m                             \u001b[0mmethod\u001b[0m\u001b[0;34m=\u001b[0m\u001b[0mmethod\u001b[0m\u001b[0;34m,\u001b[0m \u001b[0mmethod_kwds\u001b[0m\u001b[0;34m=\u001b[0m\u001b[0mmethod_kwds\u001b[0m\u001b[0;34m,\u001b[0m\u001b[0;34m\u001b[0m\u001b[0m\n\u001b[0;32m--> 332\u001b[0;31m                             assume_regular_frequency=assume_regular_frequency)\n\u001b[0m\u001b[1;32m    333\u001b[0m         \u001b[0;32mreturn\u001b[0m \u001b[0mpower\u001b[0m \u001b[0;34m*\u001b[0m \u001b[0mself\u001b[0m\u001b[0;34m.\u001b[0m\u001b[0m_power_unit\u001b[0m\u001b[0;34m(\u001b[0m\u001b[0mnormalization\u001b[0m\u001b[0;34m)\u001b[0m\u001b[0;34m\u001b[0m\u001b[0m\n\u001b[1;32m    334\u001b[0m \u001b[0;34m\u001b[0m\u001b[0m\n",
      "\u001b[0;32m/Users/noelin/anaconda/envs/astroconda/lib/python2.7/site-packages/astropy/stats/lombscargle/implementations/main.pyc\u001b[0m in \u001b[0;36mlombscargle\u001b[0;34m(t, y, dy, frequency, method, assume_regular_frequency, normalization, fit_mean, center_data, method_kwds, nterms)\u001b[0m\n\u001b[1;32m    225\u001b[0m                              \"or 'fastchi2' methods\")\n\u001b[1;32m    226\u001b[0m \u001b[0;34m\u001b[0m\u001b[0m\n\u001b[0;32m--> 227\u001b[0;31m     \u001b[0mPLS\u001b[0m \u001b[0;34m=\u001b[0m \u001b[0mMETHODS\u001b[0m\u001b[0;34m[\u001b[0m\u001b[0mmethod\u001b[0m\u001b[0;34m]\u001b[0m\u001b[0;34m(\u001b[0m\u001b[0;34m*\u001b[0m\u001b[0margs\u001b[0m\u001b[0;34m,\u001b[0m \u001b[0;34m**\u001b[0m\u001b[0mkwds\u001b[0m\u001b[0;34m)\u001b[0m\u001b[0;34m\u001b[0m\u001b[0m\n\u001b[0m\u001b[1;32m    228\u001b[0m     \u001b[0;32mreturn\u001b[0m \u001b[0mPLS\u001b[0m\u001b[0;34m.\u001b[0m\u001b[0mreshape\u001b[0m\u001b[0;34m(\u001b[0m\u001b[0moutput_shape\u001b[0m\u001b[0;34m)\u001b[0m\u001b[0;34m\u001b[0m\u001b[0m\n",
      "\u001b[0;31mKeyboardInterrupt\u001b[0m: "
     ]
    }
   ],
   "source": [
    "#bootstrap significance estimation (picking random y from the sample with repitition, same t as before)\n",
    "D, omegaD = LS_bootstrap_sig(t_obs, y_obs1, dy1, omega, generalized=True,\n",
    "                           N_bootstraps=N_bootstraps, random_state=None,\n",
    "                           hist=True,plot_hist=False,Nbins=len(omega))\n",
    "sig1, sig5 = np.percentile(D, [99, 95])\n",
    "frecD_BSS=omegaD/(2.0*np.pi)"
   ]
  },
  {
   "cell_type": "markdown",
   "metadata": {},
   "source": [
    "#### 1.2 Null hypotesis test\n",
    "\n",
    "Here we try to rull out the hypotesis of the estimated frecuency to be generated by random data.\n",
    "\n",
    "For this we construct the mock vector component by shuffling all the components in the data set in order to create a fully uncorrelated new vectors from the data we have. As shown in the following example."
   ]
  },
  {
   "cell_type": "code",
   "execution_count": null,
   "metadata": {},
   "outputs": [],
   "source": [
    "mock_vector=np.append(y_obs1,t_obs)\n",
    "mock_dy=dy1.copy()\n",
    "\n",
    "for q in range(100):\n",
    "    np.random.shuffle(mock_vector) \n",
    "    np.random.shuffle(mock_dy)   \n",
    "\n",
    "f=plt.figure(figsize=(16, 4))\n",
    "ax1=f.add_subplot(111)\n",
    "ax1.errorbar(mock_vector[:len(t_obs)], mock_vector[-len(t_obs):], mock_dy, fmt='.k', capsize=1, ecolor='#444444')"
   ]
  },
  {
   "cell_type": "code",
   "execution_count": null,
   "metadata": {},
   "outputs": [],
   "source": [
    "shuff_D, shuff_omegaD =  LS_null_hypotesis(t_obs, y_obs1, dy1, omega, generalized=True,\n",
    "                           N_mock=N_bootstraps, random_state=None,\n",
    "                           hist=True,plot_hist=False,Nbins=len(omega))\n",
    "#frecD_shuff=shuff_omegaD/(2*np.pi) # esto no tiene sentido \n",
    "sig1S, sig5S = np.percentile(shuff_D, [99, 95])\n",
    "frecD_null=shuff_omegaD/(2.0*np.pi)"
   ]
  },
  {
   "cell_type": "markdown",
   "metadata": {},
   "source": [
    "### 2. Uncertainty \n",
    "#### 2.1  $\\ \\chi^2$:\n",
    "First we compute the $\\chi^2$ and $\\chi^2_\\nu$ for each of the frecuency we choose to inspect, where\n",
    "\n",
    "$\\chi^2 = \\sum \\frac{(y_i^{obs}-y_i^{model})^2}{\\sigma_i^2}$,\n",
    "\n",
    "and\n",
    "\n",
    "$\\chi^2_\\nu=\\frac{\\chi^2_\\nu}{N-M} $.\n",
    "\n",
    "For this we compute $A_f$ and $\\phi_f$ using eq.(1) for each frequency, then compute the $\\chi^2$.\n",
    "\n",
    "Since we are interesting only in one parameter we can estimate the uncertainty of the \"best\" frecuency (the one with minimun $\\chi^2$) as the intersection of $\\chi^2(f)$ with $min(\\chi^2)+1$\n"
   ]
  },
  {
   "cell_type": "code",
   "execution_count": null,
   "metadata": {
    "scrolled": true
   },
   "outputs": [],
   "source": [
    "# =============================================================================\n",
    "# #statistical tests\n",
    "# =============================================================================\n",
    "\n",
    "#Chi2 test \n",
    "chi2,chi2_nu=LS_chi2(t_obs,dy1,y_obs1,omega,phase,A,B)"
   ]
  },
  {
   "cell_type": "markdown",
   "metadata": {},
   "source": [
    "#### 2.2. Bootstrap histogram and error estimation:\n",
    "\n",
    "In order to estimate the uncertainty we can use a bootstrap. For this we construct a mock data set with the same length as the observed by ramdoly draw pairs of $(t_i,y_i)$ with repitition from the observed sample. Then compute the periodogram for each mock sample and save the highest peak. \n",
    "\n",
    "By doing this we ar virtually repeating the same experiment several times, because of the repitition in each of this (virual) experimnets (or universe) we give more weight to some observations (the repeated one). This remind me to Galileo, when he wrote in his notes the significance of his measurements based in the amount of wine he drank that night.\n",
    "\n",
    "Is important to bear in mind that doing this random draw, in average, there are 1/3 of the points which will not being draw for each simulation. This has special relevance in time series analysis since not all the data points has the same importance."
   ]
  },
  {
   "cell_type": "code",
   "execution_count": null,
   "metadata": {},
   "outputs": [],
   "source": [
    "D_err, omegaD_err = LS_bootstrap_err_est(t_obs, y_obs1, dy1, omega, generalized=True,\n",
    "                           N_bootstraps=N_bootstraps, random_state=None,\n",
    "                           hist=True,plot_hist=False,Nbins=len(omega))\n",
    "frecD=omegaD_err/(2.0*np.pi)"
   ]
  },
  {
   "cell_type": "markdown",
   "metadata": {},
   "source": []
  },
  {
   "cell_type": "code",
   "execution_count": null,
   "metadata": {},
   "outputs": [],
   "source": [
    "fig = plt.figure(figsize=(15, 7.5))\n",
    "ax4 = fig.add_subplot(211)\n",
    "#ax4.fill(omega, P_true, fc='gray', ec='gray')\n",
    "#ax4.plot(omega, P_obs2, '-', c='black')\n",
    "#ax4.text(0.96, 0.92, \"Data PSD\\n(50x errors)\",\n",
    "#        ha='right', va='top', transform=ax4.transAxes)\n",
    "ax4.hist(frecD,normed=False,histtype='step',bins=Nbins,label='bootstrap',color='r')\n",
    "\n",
    "ax3 = fig.add_subplot(212)\n",
    "ax3.hlines(sig1,nu.min(),nu.max(),linestyles='-.',colors='r',alpha=0.5)\n",
    "##ax3.hlines(sig1W,omega.min(),omega.max(),linestyles='--',colors='g',alpha=0.5)\n",
    "ax3.hlines(sig1S,nu.min(),nu.max(),linestyles=':',colors='b',alpha=0.5)\n",
    "#ax3.fill(omega, P_true, fc='gray', ec='gray')\n",
    "ax3.plot(nu, P_obs1, '-', c='black')\n",
    "#ax3.plot(omega, P_window, '-', c='r',alpha=0.7)\n",
    "ax3.text(0.96, 0.92, \"Data PSD\", ha='right', va='top', transform=ax3.transAxes)\n",
    "ax3.set_ylim(-0.1, 1.01)\n",
    "ax3.set_xlabel('$f$')\n",
    "ax3.set_ylabel(r'$P_{\\rm LS}(f)$')\n",
    "ax3.annotate(str(round(frec_guess,2))+\"\", (frec_guess, np.max(P_obs1)*1.02), (frec_guess, np.max(P_obs1)*1.1), ha='right',\n",
    "             arrowprops=dict(arrowstyle='->'))\n",
    "\n",
    "ax32 = ax3.twinx()\n",
    "ax32.set_ylim(tuple(lomb_scargle_BIC(ax3.get_ylim(), y_obs1, dy1)))\n",
    "ax32.set_ylabel(r'$\\Delta BIC$')"
   ]
  },
  {
   "cell_type": "markdown",
   "metadata": {},
   "source": [
    "## Preparing the figures"
   ]
  },
  {
   "cell_type": "markdown",
   "metadata": {},
   "source": [
    "First we fold the signal"
   ]
  },
  {
   "cell_type": "code",
   "execution_count": null,
   "metadata": {},
   "outputs": [],
   "source": [
    "#------------------------------------------------------------\n",
    "#Fold signal\n",
    "foldt = (frec*t_obs)%1 "
   ]
  },
  {
   "cell_type": "code",
   "execution_count": null,
   "metadata": {},
   "outputs": [],
   "source": [
    "# =============================================================================\n",
    "# # Prepare the figures\n",
    "# =============================================================================\n",
    "omega /= 2 * np.pi\n",
    "\n",
    "\n",
    "fig = plt.figure(figsize=(15, 7.5))\n",
    "fig.subplots_adjust(bottom=0.075, hspace=0.235, wspace=0.095,\n",
    "                    top=0.960, left=0.045, right=0.975)\n",
    "\n",
    "fig.suptitle(str(Nobs)+' observations, frec='+str(round(frec,2))+\n",
    "             \n",
    "             ' |')\n",
    "\n",
    "ax1 = fig.add_subplot(311)\n",
    "ax1.errorbar(t_obs, y_obs1, dy1, fmt='.k', capsize=1, ecolor='#444444')\n",
    "ax1.plot(t,A*np.sin((2.*np.pi*frec_guess* t) + phase)+B)\n",
    "ax1.text(0.96, 0.92, \"Data\", ha='right', va='top', transform=ax1.transAxes)\n",
    "ax1.set_ylim(-60, 68)\n",
    "ax1.set_xlim(0,20)\n",
    "ax1.set_xlabel('$t$')\n",
    "ax1.set_ylabel('$y(t)$')\n",
    "\n",
    "ax2 = fig.add_subplot(325)\n",
    "ax2.plot(omega, P_window, '-', c='black')\n",
    "ax2.text(0.96, 0.92, \"Window PSD\", ha='right', va='top', transform=ax2.transAxes)\n",
    "ax2.set_ylim(-0.1, 1.01)\n",
    "ax2.set_xlabel('$f$')\n",
    "ax2.set_ylabel(r'$P_{\\rm LS}(f)$')\n",
    "\n",
    "ax3 = fig.add_subplot(324)\n",
    "ax3.hlines(sig1,omega.min(),omega.max(),linestyles='-.',colors='r',alpha=0.5)\n",
    "##ax3.hlines(sig1W,omega.min(),omega.max(),linestyles='--',colors='g',alpha=0.5)\n",
    "ax3.hlines(sig1S,omega.min(),omega.max(),linestyles=':',colors='b',alpha=0.5)\n",
    "#ax3.fill(omega, P_true, fc='gray', ec='gray')\n",
    "ax3.plot(omega, P_obs1, '-', c='black')\n",
    "#ax3.plot(omega, P_window, '-', c='r',alpha=0.7)\n",
    "ax3.text(0.96, 0.92, \"Data PSD\", ha='right', va='top', transform=ax3.transAxes)\n",
    "ax3.set_ylim(-0.1, 1.01)\n",
    "ax3.set_xlabel('$f$')\n",
    "ax3.set_ylabel(r'$P_{\\rm LS}(f)$')\n",
    "ax3.annotate(str(round(frec_guess,2))+\"\", (frec_guess, np.max(P_obs1)*1.02), (frec_guess, np.max(P_obs1)*1.1), ha='right',\n",
    "             arrowprops=dict(arrowstyle='->'))\n",
    "\n",
    "ax32 = ax3.twinx()\n",
    "ax32.set_ylim(tuple(lomb_scargle_BIC(ax3.get_ylim(), y_obs1, dy1)))\n",
    "ax32.set_ylabel(r'$\\Delta BIC$')\n",
    "\n",
    "\n",
    "ax4 = fig.add_subplot(3,2,6)\n",
    "#ax4.fill(omega, P_true, fc='gray', ec='gray')\n",
    "#ax4.plot(omega, P_obs2, '-', c='black')\n",
    "#ax4.text(0.96, 0.92, \"Data PSD\\n(50x errors)\",\n",
    "#        ha='right', va='top', transform=ax4.transAxes)\n",
    "ax4.hist(frecD,normed=False,histtype='step',bins=Nbins,label='bootstrap',color='r')\n",
    "#ax4.hist(frecD_wind,normed=True,histtype='step',bins=Nbins,label='bootstrap',color='g')\n",
    "#ax4.hist(frecD_shuff,normed=True,histtype='step',bins=Nbins,label='bootstrap',color='b')\n",
    "\n",
    "#ax4.set_ylim(-0.1, 1.1)\n",
    "ax4.set_xlabel('$f[d^{-1}]$')\n",
    "#ax4.set_ylabel(r'$P_{\\rm LS}(f)$')\n",
    "\n",
    "\n",
    "ax5 = fig.add_subplot(3,4,5)\n",
    "ax5.errorbar(foldt,y_obs1,dy1, fmt='.k', capsize=1, ecolor='#444444',alpha=0.7)\n",
    "ax5.errorbar(1+foldt[foldt<0.1],y_obs1[foldt<0.1],dy1[foldt<0.1], fmt='.k', capsize=1, ecolor='#444444',alpha=0.7)\n",
    "#ax5.plot(t[t<1.1],A*np.sin(t[t<1.1]*2*np.pi),linewidth=2)\n",
    "             \n",
    "ax6 = fig.add_subplot(3,4,6)\n",
    "Xcum_BS=np.sort(D)\n",
    "Ycum=np.array(range(1,N_bootstraps+1))/float(N_bootstraps)\n",
    "ax6.plot(Xcum_BS,Ycum,'r-.',label='bootstrap ('+str(round(sig5,2))+','+str(round(sig1,2))+')')\n",
    "##Xcum_W=np.sort(Wind_D)\n",
    "##ax6.plot(Xcum_W,Ycum,'g--',label='normal ('+str(round(sig5W,2))+','+str(round(sig1W,2))+')')\n",
    "Xcum_S=np.sort(shuff_D)\n",
    "ax6.plot(Xcum_S,Ycum,'b:',label='shuffle ('+str(round(sig5S,2))+','+str(round(sig1S,2))+')')\n",
    "#ax6.vlines(sig1,0,1,colors='b')\n",
    "#ax6.xlim(Xcum,Xcum)\n",
    "ax6.grid()\n",
    "ax6.minorticks_on()\n",
    "ax6.set_xlabel('$P_{LS}$')\n",
    "\n",
    "ax6.legend(loc='best')\n",
    "\n",
    "plt.show()\n",
    "\n"
   ]
  },
  {
   "cell_type": "markdown",
   "metadata": {},
   "source": [
    "## Modeling the statistical Significance test\n",
    "In order to obtain the probability of have a power greater or equal to the maximoum power obtained in the periodogram we need to fit the distribution function of the values obtained in in our simulations.\n",
    "\n",
    "### Weibull: the distribution function of bootstrapping and null hypotesis test\n",
    "\n",
    "The Weibull distribution is the most commonly used distribution for modeling reliability data or “survival” data. It has two parameters, which allow it to handle increasing, decreasing or constant failure-rates. It is defined as \n",
    "\n",
    "$f(x)= $\n",
    "$k \\frac{x^{k-1}}{\\lambda^k}$\n",
    "$e^{-(x/\\lambda)^k} ;\\ \\forall x \\in (0,\\inf)$\n",
    "\n",
    "where $k > 0$ is the shape parameter and $λ>0$ is the scale parameter of the distribution. Its complementary cumulative distribution function is a stretched exponential function.\n",
    "\n",
    "If the quantity x is a “time-to-failure”, the Weibull distribution gives a distribution for which the failure rate is proportional to a power of time. The shape parameter, k, is that power plus one, and so this parameter can be interpreted directly as follows:\n",
    "\n",
    " - A value of k < 1 indicates that the failure rate decreases over time. This happens if there is significant “infant mortality”, or defective items failing early and the failure rate decreasing over time as the defective items are weeded out of the population.\n",
    " - A value of k = 1 indicates that the failure rate is constant over time. This might suggest random external events are causing mortality, or failure.\n",
    " - A value of k > 1 indicates that the failure rate increases with time. This happens if there is an “aging” process, or parts that are more likely to fail as time goes on.\n",
    "\n",
    "In the field of materials science, the shape parameter k of a distribution of strengths is known as the Weibull modulus.\n",
    "\n",
    "![title](Weibull_PDF.png)\n",
    "\n",
    "text from <url>http://work.thaslwanter.at/Stats/html/statsDistributions.html\n",
    "    \n",
    "other usefull links:\n",
    "    \n",
    "    [scipy](https://docs.scipy.org/doc/scipy/reference/tutorial/stats.html)\n",
    "    \n",
    "    [stack overflow](https://stackoverflow.com/questions/17481672/fitting-a-weibull-distribution-using-scipy)\n",
    "    \n",
    "### Fitting the distribution\n",
    "Now we are ready to fit the data set as follow:"
   ]
  },
  {
   "cell_type": "code",
   "execution_count": null,
   "metadata": {},
   "outputs": [],
   "source": [
    "#–-------------------------------------------------------------------\n",
    "#fitting CDF\n",
    "\n",
    "\n",
    "#from scipy.stats import exponweib as weibull\n",
    "from scipy import stats\n",
    "\n",
    "power=np.arange(0,1.00001,0.00001) #defining the power array\n",
    "\n",
    "#estimating the parameters of weibull function for each method\n",
    "p_BS=stats.exponweib.fit(Xcum_BS, 1, 1, scale=02, loc=0) \n",
    "p_S=stats.exponweib.fit(Xcum_S, 1, 1, scale=02, loc=0)\n",
    "##p_W=stats.exponweib.fit(Xcum_W, 1, 1, scale=02, loc=0)"
   ]
  },
  {
   "cell_type": "markdown",
   "metadata": {},
   "source": [
    "Plotting the function and probablity values for the maximun power of the periodogram."
   ]
  },
  {
   "cell_type": "code",
   "execution_count": null,
   "metadata": {},
   "outputs": [],
   "source": [
    "fig2 = plt.figure(figsize=(15, 7.5))\n",
    "fig2.subplots_adjust(bottom=0.075, hspace=0.235, wspace=0.095,\n",
    "                    top=0.960, left=0.045, right=0.975)\n",
    "fig2.suptitle('MODEL: WEIBULL DISTRIBUTION')\n",
    "\n",
    "#fig2 = plt.figure('CDF')\n",
    "ax = fig2.add_subplot(221)\n",
    "ax.set_title('CDF')\n",
    "##ax.plot(Xcum_W,Ycum,'yx', label='white noise',alpha=0.5)\n",
    "ax.plot(Xcum_BS,Ycum,'kx', label='bootstrap')\n",
    "ax.plot(Xcum_S,Ycum,'bx', label='null test')\n",
    "##ax.plot(power,stats.exponweib.cdf(power,p_W[0],p_W[1],p_W[2],p_W[3]), 'b')\n",
    "ax.plot(power,stats.exponweib.cdf(power,p_BS[0],p_BS[1],p_BS[2],p_BS[3]), 'g')\n",
    "ax.plot(power,stats.exponweib.cdf(power,p_S[0],p_S[1],p_S[2],p_S[3]), 'r')\n",
    "\n",
    "ax.legend(loc='best')\n",
    "ax.set_xlabel('Lomb Scargle Power')\n",
    "\n",
    "\n",
    "#fig2 = plt.figure('PDF')\n",
    "ax = fig2.add_subplot(222)\n",
    "ax.set_title('PDF')\n",
    "##plt.hist(Xcum_W, bins=np.linspace(0, 1, 40), normed=True, alpha=0.5, label='white noise', color='b')\n",
    "##plt.plot(Xcum_W, stats.exponweib.pdf(Xcum_W, *stats.exponweib.fit(Xcum_W, 1, 1, scale=02, loc=0)), color='b')\n",
    "\n",
    "plt.plot(Xcum_BS, stats.exponweib.pdf(Xcum_BS, *stats.exponweib.fit(Xcum_BS, 1, 1, scale=02, loc=0)), color='k')\n",
    "plt.hist(Xcum_BS, bins=np.linspace(0, 1, 40),normed=True, alpha=0.5, label='bootstrap', color='k')\n",
    "\n",
    "plt.plot(Xcum_S, stats.exponweib.pdf(Xcum_S, *stats.exponweib.fit(Xcum_S, 1, 1, scale=02, loc=0)), color='b')\n",
    "plt.hist(Xcum_S, bins=np.linspace(0, 1, 40), normed=True, alpha=0.5, label='null test', color='b')\n",
    "\n",
    "ax.legend(loc='best')\n",
    "ax.set_xlabel('Lomb Scargle Power')\n",
    "\n",
    "\n",
    "#fig2 = plt.figure('SF')\n",
    "ax = fig2.add_subplot(212)\n",
    "ax.set_title('Survival function (1-CDF)')\n",
    "##ax.plot(Xcum_W,1-Ycum,'yx', label='white noise',alpha=0.5)\n",
    "ax.plot(Xcum_BS,1-Ycum,'kx', label='bootstrap')\n",
    "ax.plot(Xcum_S,1-Ycum,'bx', label='null test')\n",
    "##ax.plot(power,stats.exponweib.sf(power,p_W[0],p_W[1],p_W[2],p_W[3]), 'b')\n",
    "ax.plot(power,stats.exponweib.sf(power,p_BS[0],p_BS[1],p_BS[2],p_BS[3]), 'r')\n",
    "ax.plot(power,stats.exponweib.sf(power,p_S[0],p_S[1],p_S[2],p_S[3]), 'g')\n",
    "\n",
    "prob_Pmax_S=stats.exponweib.sf(P_max,p_S[0],p_S[1],p_S[2],p_S[3])\n",
    "prob_Pmax_BS=stats.exponweib.sf(P_max,p_BS[0],p_BS[1],p_BS[2],p_BS[3])\n",
    "\n",
    "ax.hlines(prob_Pmax_BS,power.min(),P_max)\n",
    "ax.vlines(P_max,1e-15,prob_Pmax_BS)\n",
    "ax.hlines(prob_Pmax_S,power.min(),P_max)\n",
    "ax.vlines(P_max,1e-15,prob_Pmax_S)\n",
    "\n",
    "ax.legend(loc='best')\n",
    "#ax.set_xscale('log')\n",
    "ax.set_yscale('log')\n",
    "\n",
    "ax.text(0.05, 0.3, \"$max(P_{LS})=\"+str(np.round(P_max,3))+'$\\n'\\\n",
    "        +'Bootstrap Prob='+str(prob_Pmax_BS)+'\\n'\\\n",
    "        +'Null Hyp Prob='+str(prob_Pmax_S),\\\n",
    "        ha='left', va='bottom', transform=ax.transAxes)\n",
    "        \n",
    "\n",
    "\n",
    "print('The probability of obtain by chance a power of '+str(np.max(P_obs1))+\\\n",
    "      ' by testing the null hypotesis is:')\n",
    "print(prob_Pmax_S)\n",
    "\n",
    "print('The probability of obtain by chance a power of '+str(np.max(P_obs1))+\\\n",
    "      ' by testing the bootstrap significance is:')\n",
    "print(prob_Pmax_BS)\n"
   ]
  },
  {
   "cell_type": "code",
   "execution_count": null,
   "metadata": {},
   "outputs": [],
   "source": [
    "frecD_BSS=omegaD/(2.0*np.pi)\n",
    "frecD_null=shuff_omegaD/(2.0*np.pi)\n",
    "f = plt.figure(figsize=(15, 7.5))\n",
    "ax6 = f.add_subplot(111)\n",
    "ax6.hist(frecD_BSS,normed=False,histtype='step',bins=Nbins,label='bootstrap',color='r')\n",
    "ax6.hist(frecD_null,normed=False,histtype='step',bins=Nbins,label='null',color='b')\n",
    "ax6.grid()\n",
    "ax6.minorticks_on()\n",
    "ax6.set_xlabel('$P_{LS}$')\n",
    "ax6.set_title('Significance test frecuencies histogram')\n",
    "\n",
    "ax6.legend(loc='best')"
   ]
  },
  {
   "cell_type": "code",
   "execution_count": null,
   "metadata": {},
   "outputs": [],
   "source": []
  },
  {
   "cell_type": "code",
   "execution_count": null,
   "metadata": {},
   "outputs": [],
   "source": []
  },
  {
   "cell_type": "code",
   "execution_count": null,
   "metadata": {},
   "outputs": [],
   "source": []
  },
  {
   "cell_type": "code",
   "execution_count": null,
   "metadata": {},
   "outputs": [],
   "source": []
  },
  {
   "cell_type": "code",
   "execution_count": null,
   "metadata": {},
   "outputs": [],
   "source": []
  }
 ],
 "metadata": {
  "kernelspec": {
   "display_name": "Python 2",
   "language": "python",
   "name": "python2"
  },
  "language_info": {
   "codemirror_mode": {
    "name": "ipython",
    "version": 2
   },
   "file_extension": ".py",
   "mimetype": "text/x-python",
   "name": "python",
   "nbconvert_exporter": "python",
   "pygments_lexer": "ipython2",
   "version": "2.7.15"
  }
 },
 "nbformat": 4,
 "nbformat_minor": 2
}
